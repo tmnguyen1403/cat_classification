{
 "cells": [
  {
   "cell_type": "code",
   "execution_count": 1,
   "metadata": {},
   "outputs": [],
   "source": [
    "import os\n",
    "import time\n",
    "import mxnet as mx\n",
    "import numpy as np\n",
    "\n",
    "from mxnet import gluon, image, init, nd\n",
    "from mxnet import autograd\n",
    "from mxnet.gluon import nn\n",
    "from mxnet.gluon.data.vision import transforms\n",
    "from mxnet.gluon.data.vision import ImageFolderDataset\n",
    "from gluoncv.utils import makedirs\n",
    "from gluoncv.model_zoo import get_model\n",
    "from matplotlib import pyplot as plt "
   ]
  },
  {
   "cell_type": "code",
   "execution_count": 2,
   "metadata": {},
   "outputs": [],
   "source": [
    "#Data Description\n",
    "#Train Data: 100 images\n",
    "#Val Data: 50 images\n",
    "#Classes: Bengal and Siamese cat"
   ]
  },
  {
   "cell_type": "code",
   "execution_count": 3,
   "metadata": {},
   "outputs": [],
   "source": [
    "#Hypterparameters\n",
    "classes = 2\n",
    "epochs = 3\n",
    "lr = 0.001\n",
    "momentum = 0.9\n",
    "wd = 0.0001\n",
    "ctx = [mx.cpu()]\n",
    "batch_size = 8"
   ]
  },
  {
   "cell_type": "code",
   "execution_count": 4,
   "metadata": {},
   "outputs": [],
   "source": [
    "#Data Augmentation\n",
    "jitter_param = 0.4\n",
    "lighting_param = 0.1\n",
    "\n",
    "transform_train = transforms.Compose([\n",
    "    transforms.RandomResizedCrop(224),\n",
    "    transforms.RandomFlipLeftRight(),\n",
    "    transforms.RandomColorJitter(brightness=jitter_param, contrast=jitter_param, saturation=jitter_param),\n",
    "    transforms.RandomLighting(lighting_param),\n",
    "    transforms.ToTensor(),\n",
    "    transforms.Normalize([0.485, 0.456, 0.406], [0.229, 0.224, .0225])\n",
    "])\n",
    "\n",
    "transform_test = transforms.Compose([\n",
    "    transforms.Resize(256),\n",
    "    transforms.CenterCrop(224),\n",
    "    transforms.ToTensor(),\n",
    "    transforms.Normalize([0.485, 0.456, 0.406], [0.229, 0.224, .0225])\n",
    "])"
   ]
  },
  {
   "cell_type": "code",
   "execution_count": 5,
   "metadata": {},
   "outputs": [
    {
     "name": "stderr",
     "output_type": "stream",
     "text": [
      "/Users/tomriddle/miniconda3/lib/python3.7/site-packages/mxnet/gluon/data/vision/datasets.py:312: UserWarning: Ignoring ./data/images/cat_train/bengal_cat/.ipynb_checkpoints of type . Only support .jpg, .jpeg, .png\n",
      "  filename, ext, ', '.join(self._exts)))\n",
      "/Users/tomriddle/miniconda3/lib/python3.7/site-packages/mxnet/gluon/data/vision/datasets.py:312: UserWarning: Ignoring ./data/images/cat_train/siamese_cat/.ipynb_checkpoints of type . Only support .jpg, .jpeg, .png\n",
      "  filename, ext, ', '.join(self._exts)))\n",
      "/Users/tomriddle/.local/lib/python3.7/site-packages/ipykernel_launcher.py:12: UserWarning: Ignoring ./data/images/cat_val/.DS_Store, which is not a directory.\n",
      "  if sys.path[0] == '':\n",
      "/Users/tomriddle/miniconda3/lib/python3.7/site-packages/mxnet/gluon/data/vision/datasets.py:312: UserWarning: Ignoring ./data/images/cat_val/bengal_cat/.DS_Store of type . Only support .jpg, .jpeg, .png\n",
      "  filename, ext, ', '.join(self._exts)))\n",
      "/Users/tomriddle/.local/lib/python3.7/site-packages/ipykernel_launcher.py:17: UserWarning: Ignoring ./data/images/cat_test/.DS_Store, which is not a directory.\n",
      "/Users/tomriddle/miniconda3/lib/python3.7/site-packages/mxnet/gluon/data/vision/datasets.py:312: UserWarning: Ignoring ./data/images/cat_test/bengal_cat/.ipynb_checkpoints of type . Only support .jpg, .jpeg, .png\n",
      "  filename, ext, ', '.join(self._exts)))\n",
      "/Users/tomriddle/miniconda3/lib/python3.7/site-packages/mxnet/gluon/data/vision/datasets.py:312: UserWarning: Ignoring ./data/images/cat_test/siamese_cat/.DS_Store of type . Only support .jpg, .jpeg, .png\n",
      "  filename, ext, ', '.join(self._exts)))\n"
     ]
    }
   ],
   "source": [
    "path = './data/images'\n",
    "train_path = os.path.join(path, 'cat_train')\n",
    "val_path = os.path.join(path, 'cat_val')\n",
    "test_path = os.path.join(path, 'cat_test')\n",
    "\n",
    "train_data = gluon.data.DataLoader(\n",
    "    ImageFolderDataset(train_path).transform_first(transform_train),\n",
    "    batch_size=batch_size, shuffle=True\n",
    ")\n",
    "\n",
    "val_data = gluon.data.DataLoader(\n",
    "    ImageFolderDataset(val_path).transform_first(transform_test),\n",
    "    batch_size=batch_size, shuffle=False\n",
    ")\n",
    "\n",
    "test_data = gluon.data.DataLoader(\n",
    "    ImageFolderDataset(test_path).transform_first(transform_test),\n",
    "    batch_size=batch_size\n",
    ")"
   ]
  },
  {
   "cell_type": "code",
   "execution_count": 6,
   "metadata": {},
   "outputs": [],
   "source": [
    "#Load Resnet\n",
    "# model_name = 'ResNet50_v2'\n",
    "# finetune_net = get_model(model_name, pretrained = True)\n",
    "\n",
    "# #Redefine output layer\n",
    "# with finetune_net.name_scope():\n",
    "#     finetune_net.output = nn.Dense(classes)\n",
    "# finetune_net.output.initialize(init.Xavier(), ctx=ctx)\n",
    "# finetune_net.collect_params().reset_ctx(ctx)\n",
    "# finetune_net.hybridize()\n",
    "\n",
    "#Since I already trained the model, I only need to load it"
   ]
  },
  {
   "cell_type": "code",
   "execution_count": 7,
   "metadata": {},
   "outputs": [],
   "source": [
    "#Load trained model\n",
    "import warnings\n",
    "with warnings.catch_warnings():\n",
    "    warnings.simplefilter(\"ignore\")\n",
    "    finetune_net = gluon.nn.SymbolBlock.imports(\"resnet-symbol.json\", ['data'], \"resnet-0003.params\", ctx=ctx)"
   ]
  },
  {
   "cell_type": "code",
   "execution_count": 8,
   "metadata": {},
   "outputs": [],
   "source": [
    "\n",
    "\n",
    "trainer = gluon.Trainer(finetune_net.collect_params(), 'sgd', {\n",
    "    'learning_rate': lr, 'momentum': momentum, 'wd': wd\n",
    "})\n",
    "\n",
    "metric = mx.metric.Accuracy()\n",
    "loss_fn = gluon.loss.SoftmaxCrossEntropyLoss()"
   ]
  },
  {
   "cell_type": "code",
   "execution_count": 9,
   "metadata": {},
   "outputs": [],
   "source": [
    "#Test\n",
    "def test(net, val_data, ctx):\n",
    "    metric = mx.metric.Accuracy()\n",
    "    for i, batch in enumerate(val_data):\n",
    "        data = gluon.utils.split_and_load(batch[0], ctx_list=ctx, batch_axis=0, even_split=False)\n",
    "        label = gluon.utils.split_and_load(batch[1], ctx_list=ctx, batch_axis=0, even_split=False)\n",
    "        outputs = [net(X) for X in data]\n",
    "        metric.update(label, outputs)\n",
    "    return metric.get()"
   ]
  },
  {
   "cell_type": "code",
   "execution_count": null,
   "metadata": {},
   "outputs": [
    {
     "name": "stdout",
     "output_type": "stream",
     "text": [
      "[Epoch 0] Train-acc: 0.960, train-loss: 0.116 | Val-acc: 0.980 | time: 110.407\n",
      "[Epoch 1] Train-acc: 0.900, train-loss: 0.256 | Val-acc: 0.990 | time: 103.357\n"
     ]
    }
   ],
   "source": [
    "#Training loop\n",
    "num_batch = len(train_data)\n",
    "\n",
    "for epoch in range(epochs):\n",
    "    tic = time.time()\n",
    "    train_loss = 0\n",
    "    metric.reset()\n",
    "    \n",
    "    for i, batch in enumerate(train_data):\n",
    "        data = gluon.utils.split_and_load(batch[0], ctx_list=ctx, batch_axis=0, even_split=False)\n",
    "        label = gluon.utils.split_and_load(batch[1], ctx_list=ctx, batch_axis=0, even_split=False)\n",
    "        with autograd.record():\n",
    "            outputs = [finetune_net(X) for X in data]\n",
    "            loss = [loss_fn(yhat, y) for yhat, y in zip(outputs, label)]\n",
    "        for l in loss:\n",
    "            l.backward()\n",
    "        trainer.step(batch_size)\n",
    "        train_loss += sum([l.mean().asscalar() for l in loss]) / len(loss)\n",
    "        \n",
    "        metric.update(label, outputs)\n",
    "    \n",
    "    #Finish 1 epoch\n",
    "    _, train_acc = metric.get()\n",
    "    train_loss /= num_batch\n",
    "    \n",
    "    _, val_acc = test(finetune_net, val_data, ctx)\n",
    "    \n",
    "    run_time = time.time() - tic\n",
    "    print('[Epoch %d] Train-acc: %.3f, train-loss: %.3f | Val-acc: %.3f | time: %.3f'%\n",
    "          (epoch, train_acc, train_loss, val_acc, run_time))\n",
    "    "
   ]
  },
  {
   "cell_type": "code",
   "execution_count": null,
   "metadata": {},
   "outputs": [],
   "source": [
    "_, test_acc = test(finetune_net, test_data, ctx)\n",
    "print('[Finished] Test-acc: %.3f' % (test_acc))"
   ]
  },
  {
   "cell_type": "code",
   "execution_count": null,
   "metadata": {},
   "outputs": [],
   "source": [
    "net = finetune_net"
   ]
  },
  {
   "cell_type": "code",
   "execution_count": null,
   "metadata": {},
   "outputs": [],
   "source": [
    "bengal = 'cat_test/bengal_cat/Bengal-Kitten.png'\n",
    "siamese = 'cat_test/siamese_cat/Siamese.png'\n",
    "bengal_val = \"cat_val/bengal_cat/image0.jpeg\"\n",
    "siamese_val = \"cat_val/siamese_cat/image11.jpeg\"\n",
    "img_path = os.path.join(path, bengal_val)\n",
    "img = image.imread(img_path)"
   ]
  },
  {
   "cell_type": "code",
   "execution_count": null,
   "metadata": {},
   "outputs": [],
   "source": [
    "img_t = transform_test(img)\n",
    "img_e = img_t.expand_dims(axis=0)"
   ]
  },
  {
   "cell_type": "code",
   "execution_count": null,
   "metadata": {},
   "outputs": [],
   "source": [
    "pred = net(img_e)"
   ]
  },
  {
   "cell_type": "code",
   "execution_count": null,
   "metadata": {},
   "outputs": [],
   "source": [
    "idx = nd.argmax(pred, axis=1).astype('int')\n",
    "string_index = str(idx.asscalar())\n",
    "print(string_index)"
   ]
  },
  {
   "cell_type": "code",
   "execution_count": null,
   "metadata": {},
   "outputs": [],
   "source": [
    "#TODO\n",
    "#classify Bengal Cat and Siamese Cat"
   ]
  },
  {
   "cell_type": "code",
   "execution_count": null,
   "metadata": {},
   "outputs": [],
   "source": [
    "t = nd.softmax(pred, axis=1)\n",
    "t"
   ]
  },
  {
   "cell_type": "code",
   "execution_count": null,
   "metadata": {},
   "outputs": [],
   "source": [
    "plt.imshow(img.asnumpy())"
   ]
  },
  {
   "cell_type": "code",
   "execution_count": null,
   "metadata": {},
   "outputs": [],
   "source": [
    "#Save trained model\n",
    "finetune_net.export('resnet', epoch=3)"
   ]
  }
 ],
 "metadata": {
  "kernelspec": {
   "display_name": "Python 3",
   "language": "python",
   "name": "python3"
  },
  "language_info": {
   "codemirror_mode": {
    "name": "ipython",
    "version": 3
   },
   "file_extension": ".py",
   "mimetype": "text/x-python",
   "name": "python",
   "nbconvert_exporter": "python",
   "pygments_lexer": "ipython3",
   "version": "3.7.3"
  }
 },
 "nbformat": 4,
 "nbformat_minor": 2
}

{
 "cells": [
  {
   "cell_type": "code",
   "execution_count": 1,
   "metadata": {},
   "outputs": [],
   "source": [
    "import os\n",
    "import time\n",
    "import mxnet as mx\n",
    "import numpy as np\n",
    "\n",
    "from mxnet import gluon, image, init, nd\n",
    "from mxnet import autograd\n",
    "from mxnet.gluon import nn\n",
    "from mxnet.gluon.data.vision import transforms\n",
    "from mxnet.gluon.data.vision import ImageFolderDataset\n",
    "from gluoncv.utils import makedirs\n",
    "from gluoncv.model_zoo import get_model\n",
    "from matplotlib import pyplot as plt "
   ]
  },
  {
   "cell_type": "code",
   "execution_count": 2,
   "metadata": {},
   "outputs": [],
   "source": [
    "#Data Description\n",
    "#Train Data: 100 images\n",
    "#Val Data: 50 images\n",
    "#Classes: Bengal and Siamese cat\n",
    "# + Munchkin"
   ]
  },
  {
   "cell_type": "code",
   "execution_count": 3,
   "metadata": {},
   "outputs": [],
   "source": [
    "#Hypterparameters\n",
    "classes = 3\n",
    "epochs = 3\n",
    "lr = 0.001\n",
    "momentum = 0.9\n",
    "wd = 0.0001\n",
    "ctx = [mx.cpu()]\n",
    "batch_size = 8"
   ]
  },
  {
   "cell_type": "code",
   "execution_count": 4,
   "metadata": {},
   "outputs": [],
   "source": [
    "#Data Augmentation\n",
    "jitter_param = 0.4\n",
    "lighting_param = 0.1\n",
    "\n",
    "transform_train = transforms.Compose([\n",
    "    transforms.RandomResizedCrop(224),\n",
    "    transforms.RandomFlipLeftRight(),\n",
    "    transforms.RandomColorJitter(brightness=jitter_param, contrast=jitter_param, saturation=jitter_param),\n",
    "    transforms.RandomLighting(lighting_param),\n",
    "    transforms.ToTensor(),\n",
    "    transforms.Normalize([0.485, 0.456, 0.406], [0.229, 0.224, .0225])\n",
    "])\n",
    "\n",
    "transform_test = transforms.Compose([\n",
    "    transforms.Resize(256),\n",
    "    transforms.CenterCrop(224),\n",
    "    transforms.ToTensor(),\n",
    "    transforms.Normalize([0.485, 0.456, 0.406], [0.229, 0.224, .0225])\n",
    "])"
   ]
  },
  {
   "cell_type": "code",
   "execution_count": 5,
   "metadata": {},
   "outputs": [
    {
     "name": "stderr",
     "output_type": "stream",
     "text": [
      "/Users/tomriddle/.local/lib/python3.7/site-packages/ipykernel_launcher.py:7: UserWarning: Ignoring ./data/images/cat_train/.DS_Store, which is not a directory.\n",
      "  import sys\n",
      "/Users/tomriddle/miniconda3/lib/python3.7/site-packages/mxnet/gluon/data/vision/datasets.py:312: UserWarning: Ignoring ./data/images/cat_train/bengal_cat/.ipynb_checkpoints of type . Only support .jpg, .jpeg, .png\n",
      "  filename, ext, ', '.join(self._exts)))\n",
      "/Users/tomriddle/miniconda3/lib/python3.7/site-packages/mxnet/gluon/data/vision/datasets.py:312: UserWarning: Ignoring ./data/images/cat_train/munchkin_cat/.DS_Store of type . Only support .jpg, .jpeg, .png\n",
      "  filename, ext, ', '.join(self._exts)))\n",
      "/Users/tomriddle/miniconda3/lib/python3.7/site-packages/mxnet/gluon/data/vision/datasets.py:312: UserWarning: Ignoring ./data/images/cat_train/munchkin_cat/.ipynb_checkpoints of type . Only support .jpg, .jpeg, .png\n",
      "  filename, ext, ', '.join(self._exts)))\n",
      "/Users/tomriddle/miniconda3/lib/python3.7/site-packages/mxnet/gluon/data/vision/datasets.py:312: UserWarning: Ignoring ./data/images/cat_train/siamese_cat/.ipynb_checkpoints of type . Only support .jpg, .jpeg, .png\n",
      "  filename, ext, ', '.join(self._exts)))\n",
      "/Users/tomriddle/.local/lib/python3.7/site-packages/ipykernel_launcher.py:12: UserWarning: Ignoring ./data/images/cat_val/.DS_Store, which is not a directory.\n",
      "  if sys.path[0] == '':\n",
      "/Users/tomriddle/miniconda3/lib/python3.7/site-packages/mxnet/gluon/data/vision/datasets.py:312: UserWarning: Ignoring ./data/images/cat_val/bengal_cat/.DS_Store of type . Only support .jpg, .jpeg, .png\n",
      "  filename, ext, ', '.join(self._exts)))\n",
      "/Users/tomriddle/miniconda3/lib/python3.7/site-packages/mxnet/gluon/data/vision/datasets.py:312: UserWarning: Ignoring ./data/images/cat_val/munchkin_cat/.DS_Store of type . Only support .jpg, .jpeg, .png\n",
      "  filename, ext, ', '.join(self._exts)))\n",
      "/Users/tomriddle/miniconda3/lib/python3.7/site-packages/mxnet/gluon/data/vision/datasets.py:312: UserWarning: Ignoring ./data/images/cat_val/munchkin_cat/.ipynb_checkpoints of type . Only support .jpg, .jpeg, .png\n",
      "  filename, ext, ', '.join(self._exts)))\n",
      "/Users/tomriddle/.local/lib/python3.7/site-packages/ipykernel_launcher.py:17: UserWarning: Ignoring ./data/images/cat_test/.DS_Store, which is not a directory.\n",
      "/Users/tomriddle/miniconda3/lib/python3.7/site-packages/mxnet/gluon/data/vision/datasets.py:312: UserWarning: Ignoring ./data/images/cat_test/bengal_cat/.ipynb_checkpoints of type . Only support .jpg, .jpeg, .png\n",
      "  filename, ext, ', '.join(self._exts)))\n",
      "/Users/tomriddle/miniconda3/lib/python3.7/site-packages/mxnet/gluon/data/vision/datasets.py:312: UserWarning: Ignoring ./data/images/cat_test/munchkin_cat/.DS_Store of type . Only support .jpg, .jpeg, .png\n",
      "  filename, ext, ', '.join(self._exts)))\n",
      "/Users/tomriddle/miniconda3/lib/python3.7/site-packages/mxnet/gluon/data/vision/datasets.py:312: UserWarning: Ignoring ./data/images/cat_test/siamese_cat/.DS_Store of type . Only support .jpg, .jpeg, .png\n",
      "  filename, ext, ', '.join(self._exts)))\n"
     ]
    }
   ],
   "source": [
    "path = './data/images'\n",
    "train_path = os.path.join(path, 'cat_train')\n",
    "val_path = os.path.join(path, 'cat_val')\n",
    "test_path = os.path.join(path, 'cat_test')\n",
    "\n",
    "train_data = gluon.data.DataLoader(\n",
    "    ImageFolderDataset(train_path).transform_first(transform_train),\n",
    "    batch_size=batch_size, shuffle=True\n",
    ")\n",
    "\n",
    "val_data = gluon.data.DataLoader(\n",
    "    ImageFolderDataset(val_path).transform_first(transform_test),\n",
    "    batch_size=batch_size, shuffle=False\n",
    ")\n",
    "\n",
    "test_data = gluon.data.DataLoader(\n",
    "    ImageFolderDataset(test_path).transform_first(transform_test),\n",
    "    batch_size=batch_size\n",
    ")"
   ]
  },
  {
   "cell_type": "code",
   "execution_count": 6,
   "metadata": {},
   "outputs": [],
   "source": [
    "#Load Resnet\n",
    "# model_name = 'ResNet50_v2'\n",
    "# finetune_net = get_model(model_name, pretrained = True)\n",
    "\n",
    "# #Redefine output layer\n",
    "# with finetune_net.name_scope():\n",
    "#     finetune_net.output = nn.Dense(classes)\n",
    "# finetune_net.output.initialize(init.Xavier(), ctx=ctx)\n",
    "# finetune_net.collect_params().reset_ctx(ctx)\n",
    "# finetune_net.hybridize()\n",
    "\n",
    "#Since I already trained the model, I only need to load it"
   ]
  },
  {
   "cell_type": "code",
   "execution_count": 7,
   "metadata": {},
   "outputs": [],
   "source": [
    "#Load trained model\n",
    "SAVE_PATH ='./Params_Save'\n",
    "model_path = os.path.join(SAVE_PATH, 'resnet-symbol.json')\n",
    "param_path = os.path.join(SAVE_PATH, 'resnet-0009.params')\n",
    "import warnings\n",
    "with warnings.catch_warnings():\n",
    "    warnings.simplefilter(\"ignore\")\n",
    "    finetune_net = gluon.nn.SymbolBlock.imports(model_path, ['data'], param_path, ctx=ctx)\n"
   ]
  },
  {
   "cell_type": "code",
   "execution_count": 8,
   "metadata": {},
   "outputs": [],
   "source": [
    "\n",
    "\n",
    "trainer = gluon.Trainer(finetune_net.collect_params(), 'sgd', {\n",
    "    'learning_rate': lr, 'momentum': momentum, 'wd': wd\n",
    "})\n",
    "\n",
    "metric = mx.metric.Accuracy()\n",
    "loss_fn = gluon.loss.SoftmaxCrossEntropyLoss()"
   ]
  },
  {
   "cell_type": "code",
   "execution_count": 9,
   "metadata": {},
   "outputs": [],
   "source": [
    "#Test\n",
    "def test(net, val_data, ctx):\n",
    "    metric = mx.metric.Accuracy()\n",
    "    for i, batch in enumerate(val_data):\n",
    "        data = gluon.utils.split_and_load(batch[0], ctx_list=ctx, batch_axis=0, even_split=False)\n",
    "        label = gluon.utils.split_and_load(batch[1], ctx_list=ctx, batch_axis=0, even_split=False)\n",
    "        outputs = [net(X) for X in data]\n",
    "        metric.update(label, outputs)\n",
    "    return metric.get()"
   ]
  },
  {
   "cell_type": "code",
   "execution_count": 10,
   "metadata": {},
   "outputs": [
    {
     "name": "stdout",
     "output_type": "stream",
     "text": [
      "[Epoch 0] Train-acc: 0.843, train-loss: 0.380 | Val-acc: 0.913 | time: 176.980\n",
      "[Epoch 1] Train-acc: 0.846, train-loss: 0.337 | Val-acc: 0.913 | time: 244.930\n",
      "[Epoch 2] Train-acc: 0.873, train-loss: 0.414 | Val-acc: 0.879 | time: 191.256\n"
     ]
    }
   ],
   "source": [
    "#Training loop\n",
    "num_batch = len(train_data)\n",
    "\n",
    "for epoch in range(epochs):\n",
    "    tic = time.time()\n",
    "    train_loss = 0\n",
    "    metric.reset()\n",
    "    \n",
    "    for i, batch in enumerate(train_data):\n",
    "        data = gluon.utils.split_and_load(batch[0], ctx_list=ctx, batch_axis=0, even_split=False)\n",
    "        label = gluon.utils.split_and_load(batch[1], ctx_list=ctx, batch_axis=0, even_split=False)\n",
    "        with autograd.record():\n",
    "            outputs = [finetune_net(X) for X in data]\n",
    "            loss = [loss_fn(yhat, y) for yhat, y in zip(outputs, label)]\n",
    "        for l in loss:\n",
    "            l.backward()\n",
    "        trainer.step(batch_size)\n",
    "        train_loss += sum([l.mean().asscalar() for l in loss]) / len(loss)\n",
    "        \n",
    "        metric.update(label, outputs)\n",
    "    \n",
    "    #Finish 1 epoch\n",
    "    _, train_acc = metric.get()\n",
    "    train_loss /= num_batch\n",
    "    \n",
    "    _, val_acc = test(finetune_net, val_data, ctx)\n",
    "    \n",
    "    run_time = time.time() - tic\n",
    "    print('[Epoch %d] Train-acc: %.3f, train-loss: %.3f | Val-acc: %.3f | time: %.3f'%\n",
    "          (epoch, train_acc, train_loss, val_acc, run_time))\n",
    "    "
   ]
  },
  {
   "cell_type": "code",
   "execution_count": 11,
   "metadata": {},
   "outputs": [
    {
     "name": "stdout",
     "output_type": "stream",
     "text": [
      "[Finished] Test-acc: 0.821\n"
     ]
    }
   ],
   "source": [
    "_, test_acc = test(finetune_net, test_data, ctx)\n",
    "print('[Finished] Test-acc: %.3f' % (test_acc))"
   ]
  },
  {
   "cell_type": "code",
   "execution_count": 12,
   "metadata": {},
   "outputs": [],
   "source": [
    "net = finetune_net"
   ]
  },
  {
   "cell_type": "code",
   "execution_count": 13,
   "metadata": {},
   "outputs": [],
   "source": [
    "bengal_train = 'cat_train/bengal_cat/bengal-5.jpg'\n",
    "bengal = 'cat_test/bengal_cat/Bengal-Kitten.png'\n",
    "bengal_val = \"cat_val/bengal_cat/image0.jpeg\"\n",
    "munchkin = 'cat_test/munchkin_cat/25-1.jpg'\n",
    "siamese = 'cat_test/siamese_cat/Siamese.png'\n",
    "siamese_val = \"cat_val/siamese_cat/image11.jpeg\"\n",
    "\n",
    "\n",
    "test_images = [bengal_train, bengal, bengal_val, munchkin, siamese, siamese_val]\n",
    "expect_result = [0, 0, 0, 1, 2, 2]\n",
    "test_result = []"
   ]
  },
  {
   "cell_type": "code",
   "execution_count": 14,
   "metadata": {},
   "outputs": [],
   "source": [
    "for file in test_images:\n",
    "    img_path = os.path.join(path, file)\n",
    "    img = mx.image.imread(img_path)   \n",
    "    img_t = transform_test(img)\n",
    "    img_e = img_t.expand_dims(axis=0)\n",
    "    pred = net(img_e)\n",
    "    idx = nd.argmax(nd.softmax(pred), axis=1)\n",
    "    test_result.append(idx.asscalar().astype('int'))"
   ]
  },
  {
   "cell_type": "code",
   "execution_count": 15,
   "metadata": {},
   "outputs": [],
   "source": [
    "#Test if result is correct\n",
    "assert(test_result == expect_result)"
   ]
  },
  {
   "cell_type": "code",
   "execution_count": null,
   "metadata": {},
   "outputs": [],
   "source": [
    "plt.imshow(img.asnumpy())"
   ]
  },
  {
   "cell_type": "code",
   "execution_count": 16,
   "metadata": {},
   "outputs": [],
   "source": [
    "#Save trained model\n",
    "SAVE_PATH = './Params_Save'\n",
    "f_name = os.path.join(SAVE_PATH, 'resnet')\n",
    "finetune_net.export(f_name, epoch=9)"
   ]
  },
  {
   "cell_type": "code",
   "execution_count": null,
   "metadata": {},
   "outputs": [],
   "source": [
    "ImageFolderDataset?"
   ]
  },
  {
   "cell_type": "code",
   "execution_count": null,
   "metadata": {},
   "outputs": [],
   "source": [
    "dir(train_data)"
   ]
  },
  {
   "cell_type": "code",
   "execution_count": null,
   "metadata": {
    "scrolled": true
   },
   "outputs": [],
   "source": [
    "#Get classes\n",
    "a = ImageFolderDataset(val_path)"
   ]
  },
  {
   "cell_type": "code",
   "execution_count": null,
   "metadata": {},
   "outputs": [],
   "source": [
    "for idx, label in enumerate(a.synsets):\n",
    "    print(idx, label)"
   ]
  },
  {
   "cell_type": "code",
   "execution_count": null,
   "metadata": {},
   "outputs": [],
   "source": [
    "net.export?"
   ]
  },
  {
   "cell_type": "code",
   "execution_count": null,
   "metadata": {},
   "outputs": [],
   "source": []
  }
 ],
 "metadata": {
  "kernelspec": {
   "display_name": "Python 3",
   "language": "python",
   "name": "python3"
  },
  "language_info": {
   "codemirror_mode": {
    "name": "ipython",
    "version": 3
   },
   "file_extension": ".py",
   "mimetype": "text/x-python",
   "name": "python",
   "nbconvert_exporter": "python",
   "pygments_lexer": "ipython3",
   "version": "3.7.3"
  }
 },
 "nbformat": 4,
 "nbformat_minor": 2
}

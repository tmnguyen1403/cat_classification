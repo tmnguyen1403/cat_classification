{
 "cells": [
  {
   "cell_type": "code",
   "execution_count": null,
   "metadata": {},
   "outputs": [],
   "source": [
    "#TODO:\n",
    "\n",
    "# IMPORTANT\n",
    "\n",
    "    # Read about Resnet - Find the research paper\n",
    "    # Download more class of cat\n",
    "    # Test the model with current ImageNet-Resnet model\n",
    "    # Wait for AWS account (DONE but use Google Colab now)\n",
    "    \n",
    "    # Use correct terminology for cat class and subset\n",
    "    # Think more about the problems, break it down \n",
    "    # Think about the methedology\n",
    "# NOT PRIORITY\n",
    "\n",
    "    # Research how to apply the model to mobile app\n"
   ]
  },
  {
   "cell_type": "code",
   "execution_count": null,
   "metadata": {},
   "outputs": [],
   "source": [
    "#Feb 18, 2020\n",
    "Add class: Munchkin Cat - 100 train, 50 val images\n",
    "Predict: Accuracy of overall model will fall around 85% due to the similarity in 3 classes\n",
    "\n",
    "Training Process\n",
    "\n",
    "Scenario 1:\n",
    "    Running with ResNet pretrained model\n",
    "        Epochs 3: Train-acc: 83%, Val-acc: 43%, Test-acc: 65%, Time/epoch: 200s\n",
    "        Problems: Can't distiguish Bengal cat and Munchkin Cat\n",
    "        \n",
    "        Epochs 6: Train-acc: 88%, Val-acc: 70%, Test-acc: 88%, Time/epoch: 155s\n",
    "        Problems: Solved problems of Epochs 3\n",
    "            \n",
    "        Epochs 9: Train-acc: 87%, Val-acc: 88%, Test-acc: 82%, Time/epoch: 200s\n",
    "        Problems: Test-acc drops, overfit happens?\n",
    "            \n",
    "        Epochs 10: Train-acc: 87%, Val-acc: 93%, Test-acc: N/A%, Time/epoch: 213s\n",
    "        Problems: Test-acc drops, overfit happens?\n",
    "        Epochs 12: Train-acc: 88%, Val-acc: 93%, Test-acc: 92%, Time/epoch: 205s\n",
    "        Problems: Test-acc drops, Stop training.\n",
    "Scenario 2:\n",
    "    Running with weights collected from training Resnet model with 2 cat classes"
   ]
  },
  {
   "cell_type": "code",
   "execution_count": null,
   "metadata": {},
   "outputs": [],
   "source": [
    "#Feb 19, 2020\n",
    "Preprocessed Images: Remove bad and duplicate images in training and validation data\n",
    "Retest model with new data -> Good result\n",
    "\n",
    "#ISSUE: \n",
    "    Upload code to Google Colab -> GPUs run generate false result ???\n",
    "    Run Colab with CPUs -> Good result\n",
    "    #TEST IDEA:\n",
    "        Double check GPU configs\n",
    "        Use Tensorflow, Keras instead of MXNet\n",
    "    #FIXED:\n",
    "        Install mxnet-cu100 instead of mxnet-cu101\n",
    "        ???Maybe was not given enough RAM at previous run\n",
    "\n",
    "#RESULT run on COLAB\n",
    "    [Epoch 0] Train-acc: 0.630, train-loss: 0.814 | Val-acc: 0.878 | time: 12.840\n",
    "    [Epoch 1] Train-acc: 0.801, train-loss: 0.476 | Val-acc: 0.946 | time: 6.676\n",
    "    [Epoch 2] Train-acc: 0.842, train-loss: 0.418 | Val-acc: 0.925 | time: 6.993\n",
    "    [Epoch 3] Train-acc: 0.808, train-loss: 0.520 | Val-acc: 0.905 | time: 6.578\n",
    "    [Epoch 4] Train-acc: 0.848, train-loss: 0.417 | Val-acc: 0.905 | time: 6.658\n",
    "    [Epoch 5] Train-acc: 0.882, train-loss: 0.303 | Val-acc: 0.912 | time: 6.626\n",
    "    [Epoch 6] Train-acc: 0.875, train-loss: 0.339 | Val-acc: 0.891 | time: 6.636\n",
    "    [Epoch 7] Train-acc: 0.848, train-loss: 0.358 | Val-acc: 0.939 | time: 6.691\n",
    "    [Epoch 8] Train-acc: 0.872, train-loss: 0.319 | Val-acc: 0.925 | time: 6.624\n",
    "    [Epoch 9] Train-acc: 0.892, train-loss: 0.286 | Val-acc: 0.912 | time: 6.719\n",
    "    [Epoch 10] Train-acc: 0.912, train-loss: 0.240 | Val-acc: 0.925 | time: 6.695\n",
    "    [Epoch 11] Train-acc: 0.933, train-loss: 0.211 | Val-acc: 0.905 | time: 6.666\n",
    "                    \n",
    "    Test-acc: 0.893\n",
    "#Reference:\n",
    "    #ColabSetup: https://towardsdatascience.com/google-drive-google-colab-github-dont-just-read-do-it-5554d5824228"
   ]
  }
 ],
 "metadata": {
  "kernelspec": {
   "display_name": "Python 3",
   "language": "python",
   "name": "python3"
  },
  "language_info": {
   "codemirror_mode": {
    "name": "ipython",
    "version": 3
   },
   "file_extension": ".py",
   "mimetype": "text/x-python",
   "name": "python",
   "nbconvert_exporter": "python",
   "pygments_lexer": "ipython3",
   "version": "3.7.3"
  }
 },
 "nbformat": 4,
 "nbformat_minor": 2
}

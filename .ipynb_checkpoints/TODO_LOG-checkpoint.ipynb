{
 "cells": [
  {
   "cell_type": "code",
   "execution_count": null,
   "metadata": {},
   "outputs": [],
   "source": [
    "#TODO:\n",
    "\n",
    "# IMPORTANT\n",
    "\n",
    "    # Read about Resnet - Find the research paper\n",
    "    # Download more class of cat\n",
    "    # Test the model with current ImageNet-Resnet model\n",
    "    # Wait for AWS account\n",
    "\n",
    "# NOT PRIORITY\n",
    "\n",
    "    # Research how to apply the model to mobile app\n"
   ]
  },
  {
   "cell_type": "code",
   "execution_count": null,
   "metadata": {},
   "outputs": [],
   "source": [
    "#Feb 18, 2020\n",
    "Add class: Munchkin Cat - 100 train, 50 val images\n",
    "Predict: Accuracy of overall model will fall around 85% due to the similarity in 3 classes\n",
    "\n",
    "Training Process\n",
    "\n",
    "Scenario 1:\n",
    "    Running with ResNet pretrained model\n",
    "        Epochs 3: Train-acc: 83%, Val-acc: 43%, Test-acc: 65%, Time/epoch: 200s\n",
    "        Problems: Can't distiguish Bengal cat and Munchkin Cat\n",
    "        \n",
    "        Epochs 6: Train-acc: 88%, Val-acc: 70%, Test-acc: 88%, Time/epoch: 155s\n",
    "        Problems: Solved problems of Epochs 3\n",
    "            \n",
    "        Epochs 9: Train-acc: 87%, Val-acc: 88%, Test-acc: 82%, Time/epoch: 200s\n",
    "        Problems: Test-acc drops, overfit happens?\n",
    "            \n",
    "        Epochs 10: Train-acc: 87%, Val-acc: 93%, Test-acc: N/A%, Time/epoch: 213s\n",
    "        Problems: Test-acc drops, overfit happens?\n",
    "        Epochs 12: Train-acc: 88%, Val-acc: 93%, Test-acc: 92%, Time/epoch: 205s\n",
    "        Problems: Test-acc drops, Stop training.\n",
    "Scenario 2:\n",
    "    Running with weights collected from training Resnet model with 2 cat classes"
   ]
  }
 ],
 "metadata": {
  "kernelspec": {
   "display_name": "Python 3",
   "language": "python",
   "name": "python3"
  },
  "language_info": {
   "codemirror_mode": {
    "name": "ipython",
    "version": 3
   },
   "file_extension": ".py",
   "mimetype": "text/x-python",
   "name": "python",
   "nbconvert_exporter": "python",
   "pygments_lexer": "ipython3",
   "version": "3.7.3"
  }
 },
 "nbformat": 4,
 "nbformat_minor": 2
}

{
 "cells": [
  {
   "cell_type": "code",
   "execution_count": 23,
   "metadata": {},
   "outputs": [],
   "source": [
    "#VALIDATE IMAGE BEFORE STARTING TRAINING\n",
    "#PURPOSE: Check invalid image in case the training program can't read those files\n",
    "#IGNORE: .DSStore, .ipynb\n",
    "\n",
    "import os\n",
    "import mxnet"
   ]
  },
  {
   "cell_type": "code",
   "execution_count": 21,
   "metadata": {},
   "outputs": [],
   "source": [
    "PATH = './data/images'\n",
    "TRAIN = os.path.join(PATH, 'cat_val/munchkin_cat')\n",
    "images = os.listdir(TRAIN)"
   ]
  },
  {
   "cell_type": "code",
   "execution_count": 22,
   "metadata": {},
   "outputs": [
    {
     "name": "stdout",
     "output_type": "stream",
     "text": [
      "./data/images/cat_val/munchkin_cat/.DS_Store\n",
      "./data/images/cat_val/munchkin_cat/.ipynb_checkpoints\n"
     ]
    }
   ],
   "source": [
    "for image in images:\n",
    "    try:\n",
    "        img_path = os.path.join(TRAIN, image)\n",
    "        mxnet.image.imread(img_path)\n",
    "    except:\n",
    "        print(img_path)"
   ]
  },
  {
   "cell_type": "code",
   "execution_count": null,
   "metadata": {},
   "outputs": [],
   "source": []
  }
 ],
 "metadata": {
  "kernelspec": {
   "display_name": "Python 3",
   "language": "python",
   "name": "python3"
  },
  "language_info": {
   "codemirror_mode": {
    "name": "ipython",
    "version": 3
   },
   "file_extension": ".py",
   "mimetype": "text/x-python",
   "name": "python",
   "nbconvert_exporter": "python",
   "pygments_lexer": "ipython3",
   "version": "3.7.3"
  }
 },
 "nbformat": 4,
 "nbformat_minor": 2
}

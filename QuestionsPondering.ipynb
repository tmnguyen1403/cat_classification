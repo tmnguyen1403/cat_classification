{
 "cells": [
  {
   "cell_type": "code",
   "execution_count": 1,
   "metadata": {},
   "outputs": [],
   "source": [
    "#1. Do I need to have the same amount of picture for train and validate for each classes\n",
    "#For example: class 1 has 70 train images, 30 val images\n",
    "#Does class 2 need to have the same amount?\n"
   ]
  },
  {
   "cell_type": "code",
   "execution_count": null,
   "metadata": {},
   "outputs": [],
   "source": [
    "#2. How many classes of the same animal can I classify?\n",
    "\n",
    "#Experiment 1:\n",
    "# I first trained two class of cat `bengal` and `siamese` cat \n",
    "# The bengal train data contains 250 images\n",
    "# The siamese train data contains 150 images\n",
    "# RESULT: The ResNet model after train (epochs = 3) has more bias for bengal cat \n",
    "# Using the siamese cat image in this model always predict bengal cat\n",
    "\n",
    "#Experiment 2:\n",
    "# Each train data contains 100 images\n",
    "# Val data contains 50 images\n",
    "# The val acc is 80% after train(epochs = 1)\n",
    "# Model is able to distinguish siamese and bengal"
   ]
  },
  {
   "cell_type": "code",
   "execution_count": null,
   "metadata": {},
   "outputs": [],
   "source": [
    "#LOG:\n",
    "# Wait for permission from ImageNet to get more cat pitures\n",
    "\n",
    "#TODO:\n",
    "# Download more class of cat\n",
    "# Research how to apply the model to mobile app"
   ]
  }
 ],
 "metadata": {
  "kernelspec": {
   "display_name": "Python 3",
   "language": "python",
   "name": "python3"
  },
  "language_info": {
   "codemirror_mode": {
    "name": "ipython",
    "version": 3
   },
   "file_extension": ".py",
   "mimetype": "text/x-python",
   "name": "python",
   "nbconvert_exporter": "python",
   "pygments_lexer": "ipython3",
   "version": "3.7.3"
  }
 },
 "nbformat": 4,
 "nbformat_minor": 2
}
